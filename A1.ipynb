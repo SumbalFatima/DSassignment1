{
 "cells": [
  {
   "cell_type": "code",
   "execution_count": 24,
   "id": "3f205b44",
   "metadata": {},
   "outputs": [
    {
     "name": "stdout",
     "output_type": "stream",
     "text": [
      "Twinkle, twinkle,little star\n",
      "                How i wonder what you are!\n",
      "                    Up above the world so high,\n",
      "                    Like a diamond in the sky,\n",
      "          Twinkle,twinkle,little star\n",
      "                How i wonder what you are!\n"
     ]
    }
   ],
   "source": [
    "#python program for twinkle twinkle\n",
    "string='''Twinkle, twinkle,little star\n",
    "                How i wonder what you are!\n",
    "                    Up above the world so high,\n",
    "                    Like a diamond in the sky,\n",
    "          Twinkle,twinkle,little star\n",
    "                How i wonder what you are!'''\n",
    "print (string)"
   ]
  },
  {
   "cell_type": "code",
   "execution_count": 6,
   "id": "175010a9",
   "metadata": {},
   "outputs": [],
   "source": [
    "#python program for date and time\n",
    "import datetime"
   ]
  },
  {
   "cell_type": "code",
   "execution_count": 7,
   "id": "f3849e32",
   "metadata": {},
   "outputs": [
    {
     "name": "stdout",
     "output_type": "stream",
     "text": [
      "Time now is:2022-01-01 21:47:36.175650\n"
     ]
    }
   ],
   "source": [
    "current_dt=datetime.datetime.now()\n",
    "print(\"Date and time now is:\",end=\"\")\n",
    "print(current_dt)"
   ]
  },
  {
   "cell_type": "code",
   "execution_count": 8,
   "id": "e8888462",
   "metadata": {},
   "outputs": [],
   "source": [
    "#python program for area of a cicle\n",
    "from math import pi"
   ]
  },
  {
   "cell_type": "code",
   "execution_count": 9,
   "id": "341ba9bf",
   "metadata": {},
   "outputs": [
    {
     "name": "stdout",
     "output_type": "stream",
     "text": [
      "Input the radius of the circle : 5\n",
      "The area of the circle is: 78.53981633974483\n"
     ]
    }
   ],
   "source": [
    "r = float(input(\"Input the radius of the circle : \"))\n",
    "print(\"The area of the circle is: \" + str(pi * r ** 2))"
   ]
  },
  {
   "cell_type": "code",
   "execution_count": 14,
   "id": "c9426fce",
   "metadata": {},
   "outputs": [
    {
     "name": "stdout",
     "output_type": "stream",
     "text": [
      "input your first name:Tayyaba\n",
      "input your last name:Tahir\n",
      "Tahir Tayyaba\n"
     ]
    }
   ],
   "source": [
    "#python program for name\n",
    "fname=input(\"input your first name:\")\n",
    "lname=input(\"input your last name:\")\n",
    "print(lname +\" \"+fname)"
   ]
  },
  {
   "cell_type": "code",
   "execution_count": 19,
   "id": "e17e3c6f",
   "metadata": {},
   "outputs": [
    {
     "name": "stdout",
     "output_type": "stream",
     "text": [
      "First number:5\n",
      "second number:5\n",
      "10\n"
     ]
    }
   ],
   "source": [
    "#python program for addition\n",
    "firstnum=int(input(\"First number:\"))\n",
    "secondnum=int(input(\"second number:\"))\n",
    "output=firstnum + secondnum\n",
    "print(output)"
   ]
  },
  {
   "cell_type": "code",
   "execution_count": 23,
   "id": "c2457dd6",
   "metadata": {},
   "outputs": [
    {
     "name": "stdout",
     "output_type": "stream",
     "text": [
      "3.8.8 (default, Apr 13 2021, 15:08:03) [MSC v.1916 64 bit (AMD64)]\n"
     ]
    }
   ],
   "source": [
    "import sys\n",
    "print (sys.version)"
   ]
  },
  {
   "cell_type": "code",
   "execution_count": null,
   "id": "ddc6ac3b",
   "metadata": {},
   "outputs": [],
   "source": []
  }
 ],
 "metadata": {
  "kernelspec": {
   "display_name": "Python 3",
   "language": "python",
   "name": "python3"
  },
  "language_info": {
   "codemirror_mode": {
    "name": "ipython",
    "version": 3
   },
   "file_extension": ".py",
   "mimetype": "text/x-python",
   "name": "python",
   "nbconvert_exporter": "python",
   "pygments_lexer": "ipython3",
   "version": "3.8.8"
  }
 },
 "nbformat": 4,
 "nbformat_minor": 5
}
